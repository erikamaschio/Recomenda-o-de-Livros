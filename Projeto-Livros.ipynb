{
 "cells": [
  {
   "cell_type": "code",
   "execution_count": 1,
   "id": "497f2279-8345-4c2d-8a66-8fdac3b12b80",
   "metadata": {},
   "outputs": [],
   "source": [
    "import pandas as pd"
   ]
  },
  {
   "cell_type": "code",
   "execution_count": 2,
   "id": "5b228e34-84af-4413-861b-98cab45c1af9",
   "metadata": {},
   "outputs": [],
   "source": [
    "df = pd.read_csv('dados.csv')"
   ]
  },
  {
   "cell_type": "code",
   "execution_count": 3,
   "id": "ba8fbd9b-cbb7-459b-82d4-bf40614d298f",
   "metadata": {},
   "outputs": [
    {
     "data": {
      "text/html": [
       "<div>\n",
       "<style scoped>\n",
       "    .dataframe tbody tr th:only-of-type {\n",
       "        vertical-align: middle;\n",
       "    }\n",
       "\n",
       "    .dataframe tbody tr th {\n",
       "        vertical-align: top;\n",
       "    }\n",
       "\n",
       "    .dataframe thead th {\n",
       "        text-align: right;\n",
       "    }\n",
       "</style>\n",
       "<table border=\"1\" class=\"dataframe\">\n",
       "  <thead>\n",
       "    <tr style=\"text-align: right;\">\n",
       "      <th></th>\n",
       "      <th>titulo</th>\n",
       "      <th>autor</th>\n",
       "      <th>ISBN_13</th>\n",
       "      <th>ISBN_10</th>\n",
       "      <th>ano</th>\n",
       "      <th>paginas</th>\n",
       "      <th>idioma</th>\n",
       "      <th>editora</th>\n",
       "      <th>rating</th>\n",
       "      <th>avaliacao</th>\n",
       "      <th>resenha</th>\n",
       "      <th>abandonos</th>\n",
       "      <th>relendo</th>\n",
       "      <th>querem_ler</th>\n",
       "      <th>lendo</th>\n",
       "      <th>leram</th>\n",
       "      <th>descricao</th>\n",
       "      <th>genero</th>\n",
       "      <th>male</th>\n",
       "      <th>female</th>\n",
       "    </tr>\n",
       "  </thead>\n",
       "  <tbody>\n",
       "    <tr>\n",
       "      <th>0</th>\n",
       "      <td>Orçamento sem falhas</td>\n",
       "      <td>Nath Finanças</td>\n",
       "      <td>9.786556e+12</td>\n",
       "      <td>6555601566</td>\n",
       "      <td>2021</td>\n",
       "      <td>128</td>\n",
       "      <td>português</td>\n",
       "      <td>Intrínseca</td>\n",
       "      <td>0.0</td>\n",
       "      <td>0</td>\n",
       "      <td>0</td>\n",
       "      <td>0</td>\n",
       "      <td>0</td>\n",
       "      <td>1</td>\n",
       "      <td>0</td>\n",
       "      <td>0</td>\n",
       "      <td>Quando o assunto é dinheiro, não dá para achar...</td>\n",
       "      <td>Economia, Finanças / Literatura Brasileira / N...</td>\n",
       "      <td>28</td>\n",
       "      <td>72</td>\n",
       "    </tr>\n",
       "    <tr>\n",
       "      <th>1</th>\n",
       "      <td>Minha Sombria Vanessa</td>\n",
       "      <td>Kate Elizabeth Russell</td>\n",
       "      <td>9.788551e+12</td>\n",
       "      <td>8551006274</td>\n",
       "      <td>2020</td>\n",
       "      <td>432</td>\n",
       "      <td>português</td>\n",
       "      <td>Intrínseca</td>\n",
       "      <td>4.3</td>\n",
       "      <td>2</td>\n",
       "      <td>653</td>\n",
       "      <td>48</td>\n",
       "      <td>3</td>\n",
       "      <td>6</td>\n",
       "      <td>389</td>\n",
       "      <td>2</td>\n",
       "      <td>Elogiado por Gillian Flynn e considerado um do...</td>\n",
       "      <td>Drama / Ficção / Literatura Estrangeira / Susp...</td>\n",
       "      <td>7</td>\n",
       "      <td>93</td>\n",
       "    </tr>\n",
       "    <tr>\n",
       "      <th>2</th>\n",
       "      <td>Recursão</td>\n",
       "      <td>Blake Crouch</td>\n",
       "      <td>9.788551e+12</td>\n",
       "      <td>8551005375</td>\n",
       "      <td>2020</td>\n",
       "      <td>320</td>\n",
       "      <td>português</td>\n",
       "      <td>Intrínseca</td>\n",
       "      <td>4.4</td>\n",
       "      <td>2</td>\n",
       "      <td>618</td>\n",
       "      <td>22</td>\n",
       "      <td>2</td>\n",
       "      <td>6</td>\n",
       "      <td>295</td>\n",
       "      <td>2</td>\n",
       "      <td>E se um dia memórias vívidas de coisas que nun...</td>\n",
       "      <td>Ficção / Ficção científica / Literatura Estran...</td>\n",
       "      <td>21</td>\n",
       "      <td>79</td>\n",
       "    </tr>\n",
       "    <tr>\n",
       "      <th>3</th>\n",
       "      <td>M, o Filho do Século</td>\n",
       "      <td>Antonio Scurati</td>\n",
       "      <td>9.788551e+12</td>\n",
       "      <td>855100607X</td>\n",
       "      <td>2020</td>\n",
       "      <td>816</td>\n",
       "      <td>português</td>\n",
       "      <td>Intrínseca</td>\n",
       "      <td>4.6</td>\n",
       "      <td>60</td>\n",
       "      <td>12</td>\n",
       "      <td>1</td>\n",
       "      <td>0</td>\n",
       "      <td>951</td>\n",
       "      <td>49</td>\n",
       "      <td>55</td>\n",
       "      <td>O romance M, o Filho do Século conta em trama ...</td>\n",
       "      <td>Biografia, Autobiografia, Memórias / História ...</td>\n",
       "      <td>37</td>\n",
       "      <td>63</td>\n",
       "    </tr>\n",
       "    <tr>\n",
       "      <th>4</th>\n",
       "      <td>Oblivion Song: Entre Dois Mundos</td>\n",
       "      <td>Robert Kirkman</td>\n",
       "      <td>9.788551e+12</td>\n",
       "      <td>8551006258</td>\n",
       "      <td>2020</td>\n",
       "      <td>136</td>\n",
       "      <td>português</td>\n",
       "      <td>Intrínseca</td>\n",
       "      <td>4.1</td>\n",
       "      <td>166</td>\n",
       "      <td>16</td>\n",
       "      <td>0</td>\n",
       "      <td>0</td>\n",
       "      <td>376</td>\n",
       "      <td>6</td>\n",
       "      <td>184</td>\n",
       "      <td>Mestre em traçar universos distópicos permeado...</td>\n",
       "      <td>Ficção / HQ, comics, mangá / Literatura Estran...</td>\n",
       "      <td>44</td>\n",
       "      <td>56</td>\n",
       "    </tr>\n",
       "  </tbody>\n",
       "</table>\n",
       "</div>"
      ],
      "text/plain": [
       "                             titulo                   autor       ISBN_13  \\\n",
       "0              Orçamento sem falhas           Nath Finanças  9.786556e+12   \n",
       "1             Minha Sombria Vanessa  Kate Elizabeth Russell  9.788551e+12   \n",
       "2                          Recursão            Blake Crouch  9.788551e+12   \n",
       "3              M, o Filho do Século         Antonio Scurati  9.788551e+12   \n",
       "4  Oblivion Song: Entre Dois Mundos          Robert Kirkman  9.788551e+12   \n",
       "\n",
       "      ISBN_10   ano  paginas     idioma     editora  rating  avaliacao  \\\n",
       "0  6555601566  2021      128  português  Intrínseca     0.0          0   \n",
       "1  8551006274  2020      432  português  Intrínseca     4.3          2   \n",
       "2  8551005375  2020      320  português  Intrínseca     4.4          2   \n",
       "3  855100607X  2020      816  português  Intrínseca     4.6         60   \n",
       "4  8551006258  2020      136  português  Intrínseca     4.1        166   \n",
       "\n",
       "   resenha  abandonos  relendo  querem_ler  lendo  leram  \\\n",
       "0        0          0        0           1      0      0   \n",
       "1      653         48        3           6    389      2   \n",
       "2      618         22        2           6    295      2   \n",
       "3       12          1        0         951     49     55   \n",
       "4       16          0        0         376      6    184   \n",
       "\n",
       "                                           descricao  \\\n",
       "0  Quando o assunto é dinheiro, não dá para achar...   \n",
       "1  Elogiado por Gillian Flynn e considerado um do...   \n",
       "2  E se um dia memórias vívidas de coisas que nun...   \n",
       "3  O romance M, o Filho do Século conta em trama ...   \n",
       "4  Mestre em traçar universos distópicos permeado...   \n",
       "\n",
       "                                              genero  male  female  \n",
       "0  Economia, Finanças / Literatura Brasileira / N...    28      72  \n",
       "1  Drama / Ficção / Literatura Estrangeira / Susp...     7      93  \n",
       "2  Ficção / Ficção científica / Literatura Estran...    21      79  \n",
       "3  Biografia, Autobiografia, Memórias / História ...    37      63  \n",
       "4  Ficção / HQ, comics, mangá / Literatura Estran...    44      56  "
      ]
     },
     "execution_count": 3,
     "metadata": {},
     "output_type": "execute_result"
    }
   ],
   "source": [
    "df.head()"
   ]
  },
  {
   "cell_type": "code",
   "execution_count": 4,
   "id": "fd84010a-d70e-4ebc-9a95-4a19ba4001d7",
   "metadata": {},
   "outputs": [
    {
     "data": {
      "text/plain": [
       "titulo          0\n",
       "autor           4\n",
       "ISBN_13       759\n",
       "ISBN_10       759\n",
       "ano             0\n",
       "paginas         0\n",
       "idioma          2\n",
       "editora         1\n",
       "rating          0\n",
       "avaliacao       0\n",
       "resenha         0\n",
       "abandonos       0\n",
       "relendo         0\n",
       "querem_ler      0\n",
       "lendo           0\n",
       "leram           0\n",
       "descricao     657\n",
       "genero        589\n",
       "male            0\n",
       "female          0\n",
       "dtype: int64"
      ]
     },
     "execution_count": 4,
     "metadata": {},
     "output_type": "execute_result"
    }
   ],
   "source": [
    "df.isnull().sum() #Verificando valores nulos"
   ]
  },
  {
   "cell_type": "code",
   "execution_count": 5,
   "id": "e05efe2d-bcec-494c-902c-b56da703ce08",
   "metadata": {},
   "outputs": [],
   "source": [
    "df = df.drop('ISBN_13', axis=1) #Excluindo a coluna 'ISBN_13'"
   ]
  },
  {
   "cell_type": "code",
   "execution_count": 6,
   "id": "28725be3-c42d-4180-a44f-1a20e01eaa0e",
   "metadata": {},
   "outputs": [],
   "source": [
    "df = df.drop('ISBN_10', axis=1) #Excluindo a coluna 'ISBN_10'"
   ]
  },
  {
   "cell_type": "code",
   "execution_count": 7,
   "id": "8925a82c-3907-499b-b9da-993dbc8772af",
   "metadata": {},
   "outputs": [],
   "source": [
    "df['descricao'] = df['descricao'].fillna('Sem descrição') #Preenchendo os valores nulos da coluna 'descricao'"
   ]
  },
  {
   "cell_type": "code",
   "execution_count": 8,
   "id": "2d9be931-253a-48dc-a149-4121ef2401e1",
   "metadata": {},
   "outputs": [],
   "source": [
    "df['genero'] = df['genero'].fillna('Não especificado') #Preenchendo os valores nulos da coluna 'genero'"
   ]
  },
  {
   "cell_type": "code",
   "execution_count": 9,
   "id": "fa811e2d-eeb3-4518-a999-8728a1ed8405",
   "metadata": {},
   "outputs": [
    {
     "name": "stdout",
     "output_type": "stream",
     "text": [
      "Requirement already satisfied: nltk in /home/erikamaschio/miniconda3/lib/python3.12/site-packages (3.9.1)\n",
      "Requirement already satisfied: click in /home/erikamaschio/miniconda3/lib/python3.12/site-packages (from nltk) (8.1.8)\n",
      "Requirement already satisfied: joblib in /home/erikamaschio/miniconda3/lib/python3.12/site-packages (from nltk) (1.4.2)\n",
      "Requirement already satisfied: regex>=2021.8.3 in /home/erikamaschio/miniconda3/lib/python3.12/site-packages (from nltk) (2024.11.6)\n",
      "Requirement already satisfied: tqdm in /home/erikamaschio/miniconda3/lib/python3.12/site-packages (from nltk) (4.66.4)\n",
      "Note: you may need to restart the kernel to use updated packages.\n"
     ]
    }
   ],
   "source": [
    "pip install nltk #Instalando o nltk"
   ]
  },
  {
   "cell_type": "code",
   "execution_count": 10,
   "id": "06937c3b-ae8c-4a1e-b581-b28067dce427",
   "metadata": {},
   "outputs": [
    {
     "name": "stderr",
     "output_type": "stream",
     "text": [
      "[nltk_data] Downloading package stopwords to\n",
      "[nltk_data]     /home/erikamaschio/nltk_data...\n",
      "[nltk_data]   Package stopwords is already up-to-date!\n"
     ]
    }
   ],
   "source": [
    "import nltk\n",
    "nltk.download('stopwords')\n",
    "from nltk.corpus import stopwords\n",
    "\n",
    "# Pegando as stopwords em português\n",
    "stopwords_pt = stopwords.words('portuguese')"
   ]
  },
  {
   "cell_type": "code",
   "execution_count": 11,
   "id": "c6b6585f-ffa0-4ead-9dcd-9518e1b0f0c9",
   "metadata": {},
   "outputs": [],
   "source": [
    "from sklearn.feature_extraction.text import TfidfVectorizer"
   ]
  },
  {
   "cell_type": "code",
   "execution_count": 12,
   "id": "2f51a45e-8530-449a-8513-3339e7029a77",
   "metadata": {},
   "outputs": [],
   "source": [
    "# Inicializando o TF-IDF com as stopwords em português\n",
    "tfidf = TfidfVectorizer(stop_words=stopwords_pt)"
   ]
  },
  {
   "cell_type": "code",
   "execution_count": 13,
   "id": "d05ee438-0b5a-4b49-9777-51132743f20b",
   "metadata": {},
   "outputs": [],
   "source": [
    "# Aplicando o TF-IDF nas descrições dos livros\n",
    "tfidf_matrix = tfidf.fit_transform(df['descricao'])"
   ]
  },
  {
   "cell_type": "code",
   "execution_count": 14,
   "id": "edd2f667-7b8a-409b-9169-fa703123d8be",
   "metadata": {},
   "outputs": [
    {
     "name": "stdout",
     "output_type": "stream",
     "text": [
      "(11975, 75560)\n"
     ]
    }
   ],
   "source": [
    "# Exibindo o formato da matriz TF-IDF\n",
    "print(tfidf_matrix.shape)  # Quantas linhas (livros) e colunas (palavras) temos"
   ]
  },
  {
   "cell_type": "code",
   "execution_count": 15,
   "id": "1a5632a9-7f78-48cc-a6e6-d8184d93c583",
   "metadata": {},
   "outputs": [],
   "source": [
    "from sklearn.metrics.pairwise import cosine_similarity"
   ]
  },
  {
   "cell_type": "code",
   "execution_count": 16,
   "id": "c64113ad-0648-49c1-adbb-b9ba73df467b",
   "metadata": {},
   "outputs": [
    {
     "name": "stdout",
     "output_type": "stream",
     "text": [
      "[[1.         0.0206894  0.00982278 ... 0.00759234 0.00669794 0.        ]\n",
      " [0.0206894  1.         0.01549611 ... 0.01079401 0.02968223 0.00612293]\n",
      " [0.00982278 0.01549611 1.         ... 0.01428103 0.01777482 0.00618177]\n",
      " ...\n",
      " [0.00759234 0.01079401 0.01428103 ... 1.         0.02001364 0.0197798 ]\n",
      " [0.00669794 0.02968223 0.01777482 ... 0.02001364 1.         0.0145546 ]\n",
      " [0.         0.00612293 0.00618177 ... 0.0197798  0.0145546  1.        ]]\n"
     ]
    }
   ],
   "source": [
    "# Calculando a similaridade entre os livros\n",
    "cosine_sim = cosine_similarity(tfidf_matrix)\n",
    "print(cosine_sim)"
   ]
  },
  {
   "cell_type": "code",
   "execution_count": 17,
   "id": "1cd36cb4-00d5-433d-a13b-22e578798411",
   "metadata": {},
   "outputs": [],
   "source": [
    "def recomendar_livros(nome_livro, df, cosine_sim):\n",
    "    # Encontrando o índice do livro com base no nome\n",
    "    idx = df[df['titulo'].str.lower() == nome_livro.lower()].index[0]\n",
    "\n",
    "    # Calculando a similaridade entre o livro escolhido e todos os outros\n",
    "    sim_scores = list(enumerate(cosine_sim[idx]))\n",
    "    \n",
    "    #Ordenando os livros por similaridade\n",
    "    sim_scores = sorted(sim_scores, key=lambda x: x[1], reverse=True)\n",
    "    \n",
    "    #Excluindo o próprio livro da lista\n",
    "    sim_scores = sim_scores[1:3]\n",
    "    \n",
    "    #Obtendo os títulos dos livros recomendados\n",
    "    livros_recomendados = [df['titulo'][i[0]] for i in sim_scores]\n",
    "    \n",
    "    return livros_recomendados"
   ]
  }
 ],
 "metadata": {
  "kernelspec": {
   "display_name": "Python 3 (ipykernel)",
   "language": "python",
   "name": "python3"
  },
  "language_info": {
   "codemirror_mode": {
    "name": "ipython",
    "version": 3
   },
   "file_extension": ".py",
   "mimetype": "text/x-python",
   "name": "python",
   "nbconvert_exporter": "python",
   "pygments_lexer": "ipython3",
   "version": "3.12.4"
  }
 },
 "nbformat": 4,
 "nbformat_minor": 5
}
